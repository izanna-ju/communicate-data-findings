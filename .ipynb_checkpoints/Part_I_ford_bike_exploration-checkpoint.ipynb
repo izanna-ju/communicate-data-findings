{
 "cells": [
  {
   "cell_type": "markdown",
   "metadata": {},
   "source": [
    "# Ford GoBike System Data\n",
    "## by Julius Izanna\n",
    "\n",
    "## Introduction\n",
    "This data set contains information about individual rides made in a bike-sharing system that covers the greater San Francisco Bay area for the month of February of the year 2019.\n",
    "\n",
    "\n",
    "## Preliminary Wrangling\n"
   ]
  },
  {
   "cell_type": "code",
   "execution_count": 124,
   "metadata": {},
   "outputs": [],
   "source": [
    "# import all packages and set plots to be embedded inline\n",
    "from datetime import datetime\n",
    "import numpy as np\n",
    "import pandas as pd\n",
    "import matplotlib.pyplot as plt\n",
    "import seaborn as sns\n",
    "\n",
    "%matplotlib inline"
   ]
  },
  {
   "cell_type": "markdown",
   "metadata": {},
   "source": [
    "Load in your dataset and describe its properties through the questions below. Try and motivate your exploration goals through this section.\n"
   ]
  },
  {
   "cell_type": "code",
   "execution_count": 125,
   "metadata": {},
   "outputs": [],
   "source": [
    "# load ford_go_bike csv file into the dataframe ford_bike\n",
    "ford_bike = pd.read_csv('fordgobike_tripdata.csv')"
   ]
  },
  {
   "cell_type": "code",
   "execution_count": 126,
   "metadata": {},
   "outputs": [
    {
     "data": {
      "text/html": [
       "<div>\n",
       "<style scoped>\n",
       "    .dataframe tbody tr th:only-of-type {\n",
       "        vertical-align: middle;\n",
       "    }\n",
       "\n",
       "    .dataframe tbody tr th {\n",
       "        vertical-align: top;\n",
       "    }\n",
       "\n",
       "    .dataframe thead th {\n",
       "        text-align: right;\n",
       "    }\n",
       "</style>\n",
       "<table border=\"1\" class=\"dataframe\">\n",
       "  <thead>\n",
       "    <tr style=\"text-align: right;\">\n",
       "      <th></th>\n",
       "      <th>duration_sec</th>\n",
       "      <th>start_time</th>\n",
       "      <th>end_time</th>\n",
       "      <th>start_station_id</th>\n",
       "      <th>start_station_name</th>\n",
       "      <th>start_station_latitude</th>\n",
       "      <th>start_station_longitude</th>\n",
       "      <th>end_station_id</th>\n",
       "      <th>end_station_name</th>\n",
       "      <th>end_station_latitude</th>\n",
       "      <th>end_station_longitude</th>\n",
       "      <th>bike_id</th>\n",
       "      <th>user_type</th>\n",
       "      <th>member_birth_year</th>\n",
       "      <th>member_gender</th>\n",
       "      <th>bike_share_for_all_trip</th>\n",
       "    </tr>\n",
       "  </thead>\n",
       "  <tbody>\n",
       "    <tr>\n",
       "      <th>0</th>\n",
       "      <td>52185</td>\n",
       "      <td>2019-02-28 17:32:10.1450</td>\n",
       "      <td>2019-03-01 08:01:55.9750</td>\n",
       "      <td>21.0</td>\n",
       "      <td>Montgomery St BART Station (Market St at 2nd St)</td>\n",
       "      <td>37.789625</td>\n",
       "      <td>-122.400811</td>\n",
       "      <td>13.0</td>\n",
       "      <td>Commercial St at Montgomery St</td>\n",
       "      <td>37.794231</td>\n",
       "      <td>-122.402923</td>\n",
       "      <td>4902</td>\n",
       "      <td>Customer</td>\n",
       "      <td>1984.0</td>\n",
       "      <td>Male</td>\n",
       "      <td>No</td>\n",
       "    </tr>\n",
       "    <tr>\n",
       "      <th>1</th>\n",
       "      <td>42521</td>\n",
       "      <td>2019-02-28 18:53:21.7890</td>\n",
       "      <td>2019-03-01 06:42:03.0560</td>\n",
       "      <td>23.0</td>\n",
       "      <td>The Embarcadero at Steuart St</td>\n",
       "      <td>37.791464</td>\n",
       "      <td>-122.391034</td>\n",
       "      <td>81.0</td>\n",
       "      <td>Berry St at 4th St</td>\n",
       "      <td>37.775880</td>\n",
       "      <td>-122.393170</td>\n",
       "      <td>2535</td>\n",
       "      <td>Customer</td>\n",
       "      <td>NaN</td>\n",
       "      <td>NaN</td>\n",
       "      <td>No</td>\n",
       "    </tr>\n",
       "    <tr>\n",
       "      <th>2</th>\n",
       "      <td>61854</td>\n",
       "      <td>2019-02-28 12:13:13.2180</td>\n",
       "      <td>2019-03-01 05:24:08.1460</td>\n",
       "      <td>86.0</td>\n",
       "      <td>Market St at Dolores St</td>\n",
       "      <td>37.769305</td>\n",
       "      <td>-122.426826</td>\n",
       "      <td>3.0</td>\n",
       "      <td>Powell St BART Station (Market St at 4th St)</td>\n",
       "      <td>37.786375</td>\n",
       "      <td>-122.404904</td>\n",
       "      <td>5905</td>\n",
       "      <td>Customer</td>\n",
       "      <td>1972.0</td>\n",
       "      <td>Male</td>\n",
       "      <td>No</td>\n",
       "    </tr>\n",
       "    <tr>\n",
       "      <th>3</th>\n",
       "      <td>36490</td>\n",
       "      <td>2019-02-28 17:54:26.0100</td>\n",
       "      <td>2019-03-01 04:02:36.8420</td>\n",
       "      <td>375.0</td>\n",
       "      <td>Grove St at Masonic Ave</td>\n",
       "      <td>37.774836</td>\n",
       "      <td>-122.446546</td>\n",
       "      <td>70.0</td>\n",
       "      <td>Central Ave at Fell St</td>\n",
       "      <td>37.773311</td>\n",
       "      <td>-122.444293</td>\n",
       "      <td>6638</td>\n",
       "      <td>Subscriber</td>\n",
       "      <td>1989.0</td>\n",
       "      <td>Other</td>\n",
       "      <td>No</td>\n",
       "    </tr>\n",
       "    <tr>\n",
       "      <th>4</th>\n",
       "      <td>1585</td>\n",
       "      <td>2019-02-28 23:54:18.5490</td>\n",
       "      <td>2019-03-01 00:20:44.0740</td>\n",
       "      <td>7.0</td>\n",
       "      <td>Frank H Ogawa Plaza</td>\n",
       "      <td>37.804562</td>\n",
       "      <td>-122.271738</td>\n",
       "      <td>222.0</td>\n",
       "      <td>10th Ave at E 15th St</td>\n",
       "      <td>37.792714</td>\n",
       "      <td>-122.248780</td>\n",
       "      <td>4898</td>\n",
       "      <td>Subscriber</td>\n",
       "      <td>1974.0</td>\n",
       "      <td>Male</td>\n",
       "      <td>Yes</td>\n",
       "    </tr>\n",
       "  </tbody>\n",
       "</table>\n",
       "</div>"
      ],
      "text/plain": [
       "   duration_sec                start_time                  end_time  \\\n",
       "0         52185  2019-02-28 17:32:10.1450  2019-03-01 08:01:55.9750   \n",
       "1         42521  2019-02-28 18:53:21.7890  2019-03-01 06:42:03.0560   \n",
       "2         61854  2019-02-28 12:13:13.2180  2019-03-01 05:24:08.1460   \n",
       "3         36490  2019-02-28 17:54:26.0100  2019-03-01 04:02:36.8420   \n",
       "4          1585  2019-02-28 23:54:18.5490  2019-03-01 00:20:44.0740   \n",
       "\n",
       "   start_station_id                                start_station_name  \\\n",
       "0              21.0  Montgomery St BART Station (Market St at 2nd St)   \n",
       "1              23.0                     The Embarcadero at Steuart St   \n",
       "2              86.0                           Market St at Dolores St   \n",
       "3             375.0                           Grove St at Masonic Ave   \n",
       "4               7.0                               Frank H Ogawa Plaza   \n",
       "\n",
       "   start_station_latitude  start_station_longitude  end_station_id  \\\n",
       "0               37.789625              -122.400811            13.0   \n",
       "1               37.791464              -122.391034            81.0   \n",
       "2               37.769305              -122.426826             3.0   \n",
       "3               37.774836              -122.446546            70.0   \n",
       "4               37.804562              -122.271738           222.0   \n",
       "\n",
       "                               end_station_name  end_station_latitude  \\\n",
       "0                Commercial St at Montgomery St             37.794231   \n",
       "1                            Berry St at 4th St             37.775880   \n",
       "2  Powell St BART Station (Market St at 4th St)             37.786375   \n",
       "3                        Central Ave at Fell St             37.773311   \n",
       "4                         10th Ave at E 15th St             37.792714   \n",
       "\n",
       "   end_station_longitude  bike_id   user_type  member_birth_year  \\\n",
       "0            -122.402923     4902    Customer             1984.0   \n",
       "1            -122.393170     2535    Customer                NaN   \n",
       "2            -122.404904     5905    Customer             1972.0   \n",
       "3            -122.444293     6638  Subscriber             1989.0   \n",
       "4            -122.248780     4898  Subscriber             1974.0   \n",
       "\n",
       "  member_gender bike_share_for_all_trip  \n",
       "0          Male                      No  \n",
       "1           NaN                      No  \n",
       "2          Male                      No  \n",
       "3         Other                      No  \n",
       "4          Male                     Yes  "
      ]
     },
     "execution_count": 126,
     "metadata": {},
     "output_type": "execute_result"
    }
   ],
   "source": [
    "ford_bike.head()"
   ]
  },
  {
   "cell_type": "code",
   "execution_count": 127,
   "metadata": {},
   "outputs": [
    {
     "data": {
      "text/html": [
       "<div>\n",
       "<style scoped>\n",
       "    .dataframe tbody tr th:only-of-type {\n",
       "        vertical-align: middle;\n",
       "    }\n",
       "\n",
       "    .dataframe tbody tr th {\n",
       "        vertical-align: top;\n",
       "    }\n",
       "\n",
       "    .dataframe thead th {\n",
       "        text-align: right;\n",
       "    }\n",
       "</style>\n",
       "<table border=\"1\" class=\"dataframe\">\n",
       "  <thead>\n",
       "    <tr style=\"text-align: right;\">\n",
       "      <th></th>\n",
       "      <th>duration_sec</th>\n",
       "      <th>start_time</th>\n",
       "      <th>end_time</th>\n",
       "      <th>start_station_id</th>\n",
       "      <th>start_station_name</th>\n",
       "      <th>start_station_latitude</th>\n",
       "      <th>start_station_longitude</th>\n",
       "      <th>end_station_id</th>\n",
       "      <th>end_station_name</th>\n",
       "      <th>end_station_latitude</th>\n",
       "      <th>end_station_longitude</th>\n",
       "      <th>bike_id</th>\n",
       "      <th>user_type</th>\n",
       "      <th>member_birth_year</th>\n",
       "      <th>member_gender</th>\n",
       "      <th>bike_share_for_all_trip</th>\n",
       "    </tr>\n",
       "  </thead>\n",
       "  <tbody>\n",
       "    <tr>\n",
       "      <th>57229</th>\n",
       "      <td>740</td>\n",
       "      <td>2019-02-21 08:22:25.5340</td>\n",
       "      <td>2019-02-21 08:34:45.5850</td>\n",
       "      <td>144.0</td>\n",
       "      <td>Precita Park</td>\n",
       "      <td>37.747300</td>\n",
       "      <td>-122.411403</td>\n",
       "      <td>58.0</td>\n",
       "      <td>Market St at 10th St</td>\n",
       "      <td>37.776619</td>\n",
       "      <td>-122.417385</td>\n",
       "      <td>3574</td>\n",
       "      <td>Subscriber</td>\n",
       "      <td>1989.0</td>\n",
       "      <td>Male</td>\n",
       "      <td>No</td>\n",
       "    </tr>\n",
       "    <tr>\n",
       "      <th>168655</th>\n",
       "      <td>505</td>\n",
       "      <td>2019-02-04 14:06:08.4390</td>\n",
       "      <td>2019-02-04 14:14:34.0270</td>\n",
       "      <td>266.0</td>\n",
       "      <td>Parker St at Fulton St</td>\n",
       "      <td>37.862464</td>\n",
       "      <td>-122.264791</td>\n",
       "      <td>243.0</td>\n",
       "      <td>Bancroft Way at College Ave</td>\n",
       "      <td>37.869360</td>\n",
       "      <td>-122.254337</td>\n",
       "      <td>1551</td>\n",
       "      <td>Customer</td>\n",
       "      <td>1990.0</td>\n",
       "      <td>Male</td>\n",
       "      <td>No</td>\n",
       "    </tr>\n",
       "    <tr>\n",
       "      <th>55346</th>\n",
       "      <td>417</td>\n",
       "      <td>2019-02-21 10:21:00.0290</td>\n",
       "      <td>2019-02-21 10:27:57.3110</td>\n",
       "      <td>197.0</td>\n",
       "      <td>El Embarcadero at Grand Ave</td>\n",
       "      <td>37.808848</td>\n",
       "      <td>-122.249680</td>\n",
       "      <td>163.0</td>\n",
       "      <td>Lake Merritt BART Station</td>\n",
       "      <td>37.797320</td>\n",
       "      <td>-122.265320</td>\n",
       "      <td>4662</td>\n",
       "      <td>Subscriber</td>\n",
       "      <td>1985.0</td>\n",
       "      <td>Male</td>\n",
       "      <td>No</td>\n",
       "    </tr>\n",
       "    <tr>\n",
       "      <th>32786</th>\n",
       "      <td>1399</td>\n",
       "      <td>2019-02-24 13:18:53.4250</td>\n",
       "      <td>2019-02-24 13:42:12.7380</td>\n",
       "      <td>137.0</td>\n",
       "      <td>Jersey St at Castro St</td>\n",
       "      <td>37.750506</td>\n",
       "      <td>-122.433950</td>\n",
       "      <td>132.0</td>\n",
       "      <td>24th St at Chattanooga St</td>\n",
       "      <td>37.751819</td>\n",
       "      <td>-122.426614</td>\n",
       "      <td>6562</td>\n",
       "      <td>Customer</td>\n",
       "      <td>1983.0</td>\n",
       "      <td>Male</td>\n",
       "      <td>No</td>\n",
       "    </tr>\n",
       "    <tr>\n",
       "      <th>135546</th>\n",
       "      <td>2819</td>\n",
       "      <td>2019-02-08 11:51:43.4910</td>\n",
       "      <td>2019-02-08 12:38:43.4890</td>\n",
       "      <td>49.0</td>\n",
       "      <td>S Park St at 3rd St</td>\n",
       "      <td>37.780760</td>\n",
       "      <td>-122.394989</td>\n",
       "      <td>104.0</td>\n",
       "      <td>4th St at 16th St</td>\n",
       "      <td>37.767045</td>\n",
       "      <td>-122.390833</td>\n",
       "      <td>5011</td>\n",
       "      <td>Customer</td>\n",
       "      <td>1996.0</td>\n",
       "      <td>Male</td>\n",
       "      <td>No</td>\n",
       "    </tr>\n",
       "    <tr>\n",
       "      <th>106365</th>\n",
       "      <td>274</td>\n",
       "      <td>2019-02-13 18:22:32.5640</td>\n",
       "      <td>2019-02-13 18:27:07.1460</td>\n",
       "      <td>370.0</td>\n",
       "      <td>Jones St at Post St</td>\n",
       "      <td>37.787327</td>\n",
       "      <td>-122.413278</td>\n",
       "      <td>3.0</td>\n",
       "      <td>Powell St BART Station (Market St at 4th St)</td>\n",
       "      <td>37.786375</td>\n",
       "      <td>-122.404904</td>\n",
       "      <td>4326</td>\n",
       "      <td>Subscriber</td>\n",
       "      <td>1995.0</td>\n",
       "      <td>Male</td>\n",
       "      <td>No</td>\n",
       "    </tr>\n",
       "    <tr>\n",
       "      <th>168340</th>\n",
       "      <td>2205</td>\n",
       "      <td>2019-02-04 15:04:59.2100</td>\n",
       "      <td>2019-02-04 15:41:44.9400</td>\n",
       "      <td>15.0</td>\n",
       "      <td>San Francisco Ferry Building (Harry Bridges Pl...</td>\n",
       "      <td>37.795392</td>\n",
       "      <td>-122.394203</td>\n",
       "      <td>15.0</td>\n",
       "      <td>San Francisco Ferry Building (Harry Bridges Pl...</td>\n",
       "      <td>37.795392</td>\n",
       "      <td>-122.394203</td>\n",
       "      <td>2807</td>\n",
       "      <td>Customer</td>\n",
       "      <td>NaN</td>\n",
       "      <td>NaN</td>\n",
       "      <td>No</td>\n",
       "    </tr>\n",
       "    <tr>\n",
       "      <th>54804</th>\n",
       "      <td>567</td>\n",
       "      <td>2019-02-21 11:52:43.9320</td>\n",
       "      <td>2019-02-21 12:02:11.8770</td>\n",
       "      <td>16.0</td>\n",
       "      <td>Steuart St at Market St</td>\n",
       "      <td>37.794130</td>\n",
       "      <td>-122.394430</td>\n",
       "      <td>80.0</td>\n",
       "      <td>Townsend St at 5th St</td>\n",
       "      <td>37.775235</td>\n",
       "      <td>-122.397437</td>\n",
       "      <td>5550</td>\n",
       "      <td>Subscriber</td>\n",
       "      <td>1991.0</td>\n",
       "      <td>Male</td>\n",
       "      <td>No</td>\n",
       "    </tr>\n",
       "    <tr>\n",
       "      <th>12930</th>\n",
       "      <td>326</td>\n",
       "      <td>2019-02-27 17:08:36.6110</td>\n",
       "      <td>2019-02-27 17:14:03.5060</td>\n",
       "      <td>284.0</td>\n",
       "      <td>Yerba Buena Center for the Arts (Howard St at ...</td>\n",
       "      <td>37.784872</td>\n",
       "      <td>-122.400876</td>\n",
       "      <td>15.0</td>\n",
       "      <td>San Francisco Ferry Building (Harry Bridges Pl...</td>\n",
       "      <td>37.795392</td>\n",
       "      <td>-122.394203</td>\n",
       "      <td>4635</td>\n",
       "      <td>Subscriber</td>\n",
       "      <td>1972.0</td>\n",
       "      <td>Male</td>\n",
       "      <td>No</td>\n",
       "    </tr>\n",
       "    <tr>\n",
       "      <th>40862</th>\n",
       "      <td>1699</td>\n",
       "      <td>2019-02-22 19:10:17.3890</td>\n",
       "      <td>2019-02-22 19:38:37.3680</td>\n",
       "      <td>19.0</td>\n",
       "      <td>Post St at Kearny St</td>\n",
       "      <td>37.788975</td>\n",
       "      <td>-122.403452</td>\n",
       "      <td>105.0</td>\n",
       "      <td>16th St at Prosper St</td>\n",
       "      <td>37.764285</td>\n",
       "      <td>-122.431804</td>\n",
       "      <td>6509</td>\n",
       "      <td>Subscriber</td>\n",
       "      <td>1996.0</td>\n",
       "      <td>Male</td>\n",
       "      <td>No</td>\n",
       "    </tr>\n",
       "  </tbody>\n",
       "</table>\n",
       "</div>"
      ],
      "text/plain": [
       "        duration_sec                start_time                  end_time  \\\n",
       "57229            740  2019-02-21 08:22:25.5340  2019-02-21 08:34:45.5850   \n",
       "168655           505  2019-02-04 14:06:08.4390  2019-02-04 14:14:34.0270   \n",
       "55346            417  2019-02-21 10:21:00.0290  2019-02-21 10:27:57.3110   \n",
       "32786           1399  2019-02-24 13:18:53.4250  2019-02-24 13:42:12.7380   \n",
       "135546          2819  2019-02-08 11:51:43.4910  2019-02-08 12:38:43.4890   \n",
       "106365           274  2019-02-13 18:22:32.5640  2019-02-13 18:27:07.1460   \n",
       "168340          2205  2019-02-04 15:04:59.2100  2019-02-04 15:41:44.9400   \n",
       "54804            567  2019-02-21 11:52:43.9320  2019-02-21 12:02:11.8770   \n",
       "12930            326  2019-02-27 17:08:36.6110  2019-02-27 17:14:03.5060   \n",
       "40862           1699  2019-02-22 19:10:17.3890  2019-02-22 19:38:37.3680   \n",
       "\n",
       "        start_station_id                                 start_station_name  \\\n",
       "57229              144.0                                       Precita Park   \n",
       "168655             266.0                             Parker St at Fulton St   \n",
       "55346              197.0                        El Embarcadero at Grand Ave   \n",
       "32786              137.0                             Jersey St at Castro St   \n",
       "135546              49.0                                S Park St at 3rd St   \n",
       "106365             370.0                                Jones St at Post St   \n",
       "168340              15.0  San Francisco Ferry Building (Harry Bridges Pl...   \n",
       "54804               16.0                            Steuart St at Market St   \n",
       "12930              284.0  Yerba Buena Center for the Arts (Howard St at ...   \n",
       "40862               19.0                               Post St at Kearny St   \n",
       "\n",
       "        start_station_latitude  start_station_longitude  end_station_id  \\\n",
       "57229                37.747300              -122.411403            58.0   \n",
       "168655               37.862464              -122.264791           243.0   \n",
       "55346                37.808848              -122.249680           163.0   \n",
       "32786                37.750506              -122.433950           132.0   \n",
       "135546               37.780760              -122.394989           104.0   \n",
       "106365               37.787327              -122.413278             3.0   \n",
       "168340               37.795392              -122.394203            15.0   \n",
       "54804                37.794130              -122.394430            80.0   \n",
       "12930                37.784872              -122.400876            15.0   \n",
       "40862                37.788975              -122.403452           105.0   \n",
       "\n",
       "                                         end_station_name  \\\n",
       "57229                                Market St at 10th St   \n",
       "168655                        Bancroft Way at College Ave   \n",
       "55346                           Lake Merritt BART Station   \n",
       "32786                           24th St at Chattanooga St   \n",
       "135546                                  4th St at 16th St   \n",
       "106365       Powell St BART Station (Market St at 4th St)   \n",
       "168340  San Francisco Ferry Building (Harry Bridges Pl...   \n",
       "54804                               Townsend St at 5th St   \n",
       "12930   San Francisco Ferry Building (Harry Bridges Pl...   \n",
       "40862                               16th St at Prosper St   \n",
       "\n",
       "        end_station_latitude  end_station_longitude  bike_id   user_type  \\\n",
       "57229              37.776619            -122.417385     3574  Subscriber   \n",
       "168655             37.869360            -122.254337     1551    Customer   \n",
       "55346              37.797320            -122.265320     4662  Subscriber   \n",
       "32786              37.751819            -122.426614     6562    Customer   \n",
       "135546             37.767045            -122.390833     5011    Customer   \n",
       "106365             37.786375            -122.404904     4326  Subscriber   \n",
       "168340             37.795392            -122.394203     2807    Customer   \n",
       "54804              37.775235            -122.397437     5550  Subscriber   \n",
       "12930              37.795392            -122.394203     4635  Subscriber   \n",
       "40862              37.764285            -122.431804     6509  Subscriber   \n",
       "\n",
       "        member_birth_year member_gender bike_share_for_all_trip  \n",
       "57229              1989.0          Male                      No  \n",
       "168655             1990.0          Male                      No  \n",
       "55346              1985.0          Male                      No  \n",
       "32786              1983.0          Male                      No  \n",
       "135546             1996.0          Male                      No  \n",
       "106365             1995.0          Male                      No  \n",
       "168340                NaN           NaN                      No  \n",
       "54804              1991.0          Male                      No  \n",
       "12930              1972.0          Male                      No  \n",
       "40862              1996.0          Male                      No  "
      ]
     },
     "execution_count": 127,
     "metadata": {},
     "output_type": "execute_result"
    }
   ],
   "source": [
    "ford_bike.sample(10)"
   ]
  },
  {
   "cell_type": "code",
   "execution_count": 128,
   "metadata": {},
   "outputs": [
    {
     "data": {
      "text/plain": [
       "183412"
      ]
     },
     "execution_count": 128,
     "metadata": {},
     "output_type": "execute_result"
    }
   ],
   "source": [
    "# get the number of rows in the dataset\n",
    "ford_bike.shape[0]"
   ]
  },
  {
   "cell_type": "code",
   "execution_count": 129,
   "metadata": {},
   "outputs": [
    {
     "data": {
      "text/plain": [
       "Male      130651\n",
       "Female     40844\n",
       "Other       3652\n",
       "Name: member_gender, dtype: int64"
      ]
     },
     "execution_count": 129,
     "metadata": {},
     "output_type": "execute_result"
    }
   ],
   "source": [
    "ford_bike['member_gender'].value_counts()"
   ]
  },
  {
   "cell_type": "code",
   "execution_count": 130,
   "metadata": {},
   "outputs": [
    {
     "data": {
      "text/plain": [
       "No     166053\n",
       "Yes     17359\n",
       "Name: bike_share_for_all_trip, dtype: int64"
      ]
     },
     "execution_count": 130,
     "metadata": {},
     "output_type": "execute_result"
    }
   ],
   "source": [
    "ford_bike['bike_share_for_all_trip'].value_counts()"
   ]
  },
  {
   "cell_type": "code",
   "execution_count": 131,
   "metadata": {},
   "outputs": [
    {
     "data": {
      "text/plain": [
       "Subscriber    163544\n",
       "Customer       19868\n",
       "Name: user_type, dtype: int64"
      ]
     },
     "execution_count": 131,
     "metadata": {},
     "output_type": "execute_result"
    }
   ],
   "source": [
    "ford_bike['user_type'].value_counts()"
   ]
  },
  {
   "cell_type": "code",
   "execution_count": 132,
   "metadata": {},
   "outputs": [
    {
     "name": "stdout",
     "output_type": "stream",
     "text": [
      "<class 'pandas.core.frame.DataFrame'>\n",
      "RangeIndex: 183412 entries, 0 to 183411\n",
      "Data columns (total 16 columns):\n",
      " #   Column                   Non-Null Count   Dtype  \n",
      "---  ------                   --------------   -----  \n",
      " 0   duration_sec             183412 non-null  int64  \n",
      " 1   start_time               183412 non-null  object \n",
      " 2   end_time                 183412 non-null  object \n",
      " 3   start_station_id         183215 non-null  float64\n",
      " 4   start_station_name       183215 non-null  object \n",
      " 5   start_station_latitude   183412 non-null  float64\n",
      " 6   start_station_longitude  183412 non-null  float64\n",
      " 7   end_station_id           183215 non-null  float64\n",
      " 8   end_station_name         183215 non-null  object \n",
      " 9   end_station_latitude     183412 non-null  float64\n",
      " 10  end_station_longitude    183412 non-null  float64\n",
      " 11  bike_id                  183412 non-null  int64  \n",
      " 12  user_type                183412 non-null  object \n",
      " 13  member_birth_year        175147 non-null  float64\n",
      " 14  member_gender            175147 non-null  object \n",
      " 15  bike_share_for_all_trip  183412 non-null  object \n",
      "dtypes: float64(7), int64(2), object(7)\n",
      "memory usage: 22.4+ MB\n"
     ]
    }
   ],
   "source": [
    "ford_bike.info()"
   ]
  },
  {
   "cell_type": "code",
   "execution_count": 133,
   "metadata": {},
   "outputs": [],
   "source": [
    "# convert erroneous datatypes to the correct datatypes\n",
    "ford_bike['start_time'] = pd.to_datetime(ford_bike['start_time'])\n",
    "ford_bike['end_time'] = pd.to_datetime(ford_bike['end_time'])\n",
    "ford_bike['member_gender'] = ford_bike['member_gender'].astype('category')\n"
   ]
  },
  {
   "cell_type": "code",
   "execution_count": 135,
   "metadata": {},
   "outputs": [],
   "source": [
    "# extract the days of the week from the start_time and end_time\n",
    "ford_bike['start_day'] = ford_bike['start_time'].apply(lambda x: x.day_name())\n",
    "ford_bike['end_day'] = ford_bike['end_time'].apply(lambda x: x.day_name())\n",
    "\n",
    "ford_bike['start_hour'] = ford_bike['start_time'].apply(lambda x: x.hour);\n",
    "ford_bike['end_hour'] = ford_bike['end_time'].apply(lambda x: x.hour);\n"
   ]
  },
  {
   "cell_type": "code",
   "execution_count": 136,
   "metadata": {},
   "outputs": [],
   "source": [
    "# compute and extract the duration in hours and minutes\n",
    "ford_bike['duration_hour'] = ford_bike['duration_sec'].apply(lambda x: x/3600)\n",
    "ford_bike['duration_minutes'] = ford_bike['duration_sec'].apply(lambda x: x/60)"
   ]
  },
  {
   "cell_type": "code",
   "execution_count": 140,
   "metadata": {},
   "outputs": [],
   "source": [
    "# calculate the age of users and store in a column call age\n",
    "ford_bike['age'] = ford_bike['member_birth_year'].apply(lambda x: 2019 - x)\n",
    "\n",
    "ford_bike['age'] = ford_bike['age'].fillna(0) # replace NaN values with 0\n",
    "ford_bike['age'] = ford_bike['age'].astype('int64') # convert to integer datatype"
   ]
  },
  {
   "cell_type": "code",
   "execution_count": 141,
   "metadata": {},
   "outputs": [
    {
     "name": "stdout",
     "output_type": "stream",
     "text": [
      "['duration_sec', 'start_time', 'end_time', 'start_station_id', 'start_station_name', 'start_station_latitude', 'start_station_longitude', 'end_station_id', 'end_station_name', 'end_station_latitude', 'end_station_longitude', 'bike_id', 'user_type', 'member_birth_year', 'member_gender', 'bike_share_for_all_trip', 'start_day', 'end_day', 'start_hour', 'end_hour', 'duration_hour', 'duration_minutes', 'age']\n"
     ]
    }
   ],
   "source": [
    "# get list of ford bike columns names\n",
    "col = list(ford_bike.columns.values)\n",
    "print(col)"
   ]
  },
  {
   "cell_type": "code",
   "execution_count": 142,
   "metadata": {},
   "outputs": [],
   "source": [
    "# Rearrange the position of columns\n",
    "ford_bike = ford_bike[['duration_sec', 'duration_minutes', 'duration_hour', 'start_time', 'start_hour', 'end_time', 'end_hour', 'start_day', 'end_day', 'start_station_id', 'start_station_name', 'start_station_latitude', 'start_station_longitude', 'end_station_id', 'end_station_name', 'end_station_latitude', 'end_station_longitude', 'bike_id', 'user_type', 'member_birth_year', 'age', 'member_gender', 'bike_share_for_all_trip']]"
   ]
  },
  {
   "cell_type": "code",
   "execution_count": 143,
   "metadata": {},
   "outputs": [],
   "source": [
    "# convert week days to categorical datatype\n",
    "days_of_week = ['Monday', 'Tuesday', 'Wednesday', 'Thursday', 'Friday', 'Saturday', 'Sunday']\n",
    "\n",
    "days = pd.api.types.CategoricalDtype(ordered=True, categories=days_of_week)\n",
    "ford_bike['start_day'] = ford_bike['start_day'].astype(days) \n",
    "ford_bike['end_day'] = ford_bike['end_day'].astype(days) "
   ]
  },
  {
   "cell_type": "code",
   "execution_count": 144,
   "metadata": {},
   "outputs": [
    {
     "data": {
      "text/plain": [
       "duration_sec                        int64\n",
       "duration_minutes                  float64\n",
       "duration_hour                     float64\n",
       "start_time                 datetime64[ns]\n",
       "start_hour                          int64\n",
       "end_time                   datetime64[ns]\n",
       "end_hour                            int64\n",
       "start_day                        category\n",
       "end_day                          category\n",
       "start_station_id                  float64\n",
       "start_station_name                 object\n",
       "start_station_latitude            float64\n",
       "start_station_longitude           float64\n",
       "end_station_id                    float64\n",
       "end_station_name                   object\n",
       "end_station_latitude              float64\n",
       "end_station_longitude             float64\n",
       "bike_id                             int64\n",
       "user_type                          object\n",
       "member_birth_year                 float64\n",
       "age                                 int64\n",
       "member_gender                    category\n",
       "bike_share_for_all_trip            object\n",
       "dtype: object"
      ]
     },
     "execution_count": 144,
     "metadata": {},
     "output_type": "execute_result"
    }
   ],
   "source": [
    "ford_bike.dtypes"
   ]
  },
  {
   "cell_type": "code",
   "execution_count": 145,
   "metadata": {},
   "outputs": [
    {
     "data": {
      "text/html": [
       "<div>\n",
       "<style scoped>\n",
       "    .dataframe tbody tr th:only-of-type {\n",
       "        vertical-align: middle;\n",
       "    }\n",
       "\n",
       "    .dataframe tbody tr th {\n",
       "        vertical-align: top;\n",
       "    }\n",
       "\n",
       "    .dataframe thead th {\n",
       "        text-align: right;\n",
       "    }\n",
       "</style>\n",
       "<table border=\"1\" class=\"dataframe\">\n",
       "  <thead>\n",
       "    <tr style=\"text-align: right;\">\n",
       "      <th></th>\n",
       "      <th>duration_sec</th>\n",
       "      <th>duration_minutes</th>\n",
       "      <th>duration_hour</th>\n",
       "      <th>start_time</th>\n",
       "      <th>start_hour</th>\n",
       "      <th>end_time</th>\n",
       "      <th>end_hour</th>\n",
       "      <th>start_day</th>\n",
       "      <th>end_day</th>\n",
       "      <th>start_station_id</th>\n",
       "      <th>...</th>\n",
       "      <th>end_station_id</th>\n",
       "      <th>end_station_name</th>\n",
       "      <th>end_station_latitude</th>\n",
       "      <th>end_station_longitude</th>\n",
       "      <th>bike_id</th>\n",
       "      <th>user_type</th>\n",
       "      <th>member_birth_year</th>\n",
       "      <th>age</th>\n",
       "      <th>member_gender</th>\n",
       "      <th>bike_share_for_all_trip</th>\n",
       "    </tr>\n",
       "  </thead>\n",
       "  <tbody>\n",
       "    <tr>\n",
       "      <th>0</th>\n",
       "      <td>52185</td>\n",
       "      <td>869.750000</td>\n",
       "      <td>14.495833</td>\n",
       "      <td>2019-02-28 17:32:10.145</td>\n",
       "      <td>17</td>\n",
       "      <td>2019-03-01 08:01:55.975</td>\n",
       "      <td>8</td>\n",
       "      <td>Thursday</td>\n",
       "      <td>Friday</td>\n",
       "      <td>21.0</td>\n",
       "      <td>...</td>\n",
       "      <td>13.0</td>\n",
       "      <td>Commercial St at Montgomery St</td>\n",
       "      <td>37.794231</td>\n",
       "      <td>-122.402923</td>\n",
       "      <td>4902</td>\n",
       "      <td>Customer</td>\n",
       "      <td>1984.0</td>\n",
       "      <td>35</td>\n",
       "      <td>Male</td>\n",
       "      <td>No</td>\n",
       "    </tr>\n",
       "    <tr>\n",
       "      <th>1</th>\n",
       "      <td>42521</td>\n",
       "      <td>708.683333</td>\n",
       "      <td>11.811389</td>\n",
       "      <td>2019-02-28 18:53:21.789</td>\n",
       "      <td>18</td>\n",
       "      <td>2019-03-01 06:42:03.056</td>\n",
       "      <td>6</td>\n",
       "      <td>Thursday</td>\n",
       "      <td>Friday</td>\n",
       "      <td>23.0</td>\n",
       "      <td>...</td>\n",
       "      <td>81.0</td>\n",
       "      <td>Berry St at 4th St</td>\n",
       "      <td>37.775880</td>\n",
       "      <td>-122.393170</td>\n",
       "      <td>2535</td>\n",
       "      <td>Customer</td>\n",
       "      <td>NaN</td>\n",
       "      <td>0</td>\n",
       "      <td>NaN</td>\n",
       "      <td>No</td>\n",
       "    </tr>\n",
       "    <tr>\n",
       "      <th>2</th>\n",
       "      <td>61854</td>\n",
       "      <td>1030.900000</td>\n",
       "      <td>17.181667</td>\n",
       "      <td>2019-02-28 12:13:13.218</td>\n",
       "      <td>12</td>\n",
       "      <td>2019-03-01 05:24:08.146</td>\n",
       "      <td>5</td>\n",
       "      <td>Thursday</td>\n",
       "      <td>Friday</td>\n",
       "      <td>86.0</td>\n",
       "      <td>...</td>\n",
       "      <td>3.0</td>\n",
       "      <td>Powell St BART Station (Market St at 4th St)</td>\n",
       "      <td>37.786375</td>\n",
       "      <td>-122.404904</td>\n",
       "      <td>5905</td>\n",
       "      <td>Customer</td>\n",
       "      <td>1972.0</td>\n",
       "      <td>47</td>\n",
       "      <td>Male</td>\n",
       "      <td>No</td>\n",
       "    </tr>\n",
       "    <tr>\n",
       "      <th>3</th>\n",
       "      <td>36490</td>\n",
       "      <td>608.166667</td>\n",
       "      <td>10.136111</td>\n",
       "      <td>2019-02-28 17:54:26.010</td>\n",
       "      <td>17</td>\n",
       "      <td>2019-03-01 04:02:36.842</td>\n",
       "      <td>4</td>\n",
       "      <td>Thursday</td>\n",
       "      <td>Friday</td>\n",
       "      <td>375.0</td>\n",
       "      <td>...</td>\n",
       "      <td>70.0</td>\n",
       "      <td>Central Ave at Fell St</td>\n",
       "      <td>37.773311</td>\n",
       "      <td>-122.444293</td>\n",
       "      <td>6638</td>\n",
       "      <td>Subscriber</td>\n",
       "      <td>1989.0</td>\n",
       "      <td>30</td>\n",
       "      <td>Other</td>\n",
       "      <td>No</td>\n",
       "    </tr>\n",
       "    <tr>\n",
       "      <th>4</th>\n",
       "      <td>1585</td>\n",
       "      <td>26.416667</td>\n",
       "      <td>0.440278</td>\n",
       "      <td>2019-02-28 23:54:18.549</td>\n",
       "      <td>23</td>\n",
       "      <td>2019-03-01 00:20:44.074</td>\n",
       "      <td>0</td>\n",
       "      <td>Thursday</td>\n",
       "      <td>Friday</td>\n",
       "      <td>7.0</td>\n",
       "      <td>...</td>\n",
       "      <td>222.0</td>\n",
       "      <td>10th Ave at E 15th St</td>\n",
       "      <td>37.792714</td>\n",
       "      <td>-122.248780</td>\n",
       "      <td>4898</td>\n",
       "      <td>Subscriber</td>\n",
       "      <td>1974.0</td>\n",
       "      <td>45</td>\n",
       "      <td>Male</td>\n",
       "      <td>Yes</td>\n",
       "    </tr>\n",
       "  </tbody>\n",
       "</table>\n",
       "<p>5 rows × 23 columns</p>\n",
       "</div>"
      ],
      "text/plain": [
       "   duration_sec  duration_minutes  duration_hour              start_time  \\\n",
       "0         52185        869.750000      14.495833 2019-02-28 17:32:10.145   \n",
       "1         42521        708.683333      11.811389 2019-02-28 18:53:21.789   \n",
       "2         61854       1030.900000      17.181667 2019-02-28 12:13:13.218   \n",
       "3         36490        608.166667      10.136111 2019-02-28 17:54:26.010   \n",
       "4          1585         26.416667       0.440278 2019-02-28 23:54:18.549   \n",
       "\n",
       "   start_hour                end_time  end_hour start_day end_day  \\\n",
       "0          17 2019-03-01 08:01:55.975         8  Thursday  Friday   \n",
       "1          18 2019-03-01 06:42:03.056         6  Thursday  Friday   \n",
       "2          12 2019-03-01 05:24:08.146         5  Thursday  Friday   \n",
       "3          17 2019-03-01 04:02:36.842         4  Thursday  Friday   \n",
       "4          23 2019-03-01 00:20:44.074         0  Thursday  Friday   \n",
       "\n",
       "   start_station_id  ... end_station_id  \\\n",
       "0              21.0  ...           13.0   \n",
       "1              23.0  ...           81.0   \n",
       "2              86.0  ...            3.0   \n",
       "3             375.0  ...           70.0   \n",
       "4               7.0  ...          222.0   \n",
       "\n",
       "                               end_station_name  end_station_latitude  \\\n",
       "0                Commercial St at Montgomery St             37.794231   \n",
       "1                            Berry St at 4th St             37.775880   \n",
       "2  Powell St BART Station (Market St at 4th St)             37.786375   \n",
       "3                        Central Ave at Fell St             37.773311   \n",
       "4                         10th Ave at E 15th St             37.792714   \n",
       "\n",
       "   end_station_longitude bike_id   user_type  member_birth_year  age  \\\n",
       "0            -122.402923    4902    Customer             1984.0   35   \n",
       "1            -122.393170    2535    Customer                NaN    0   \n",
       "2            -122.404904    5905    Customer             1972.0   47   \n",
       "3            -122.444293    6638  Subscriber             1989.0   30   \n",
       "4            -122.248780    4898  Subscriber             1974.0   45   \n",
       "\n",
       "  member_gender  bike_share_for_all_trip  \n",
       "0          Male                       No  \n",
       "1           NaN                       No  \n",
       "2          Male                       No  \n",
       "3         Other                       No  \n",
       "4          Male                      Yes  \n",
       "\n",
       "[5 rows x 23 columns]"
      ]
     },
     "execution_count": 145,
     "metadata": {},
     "output_type": "execute_result"
    }
   ],
   "source": [
    "ford_bike.head()"
   ]
  },
  {
   "cell_type": "code",
   "execution_count": 146,
   "metadata": {},
   "outputs": [
    {
     "name": "stdout",
     "output_type": "stream",
     "text": [
      "Thursday     35197\n",
      "Tuesday      31813\n",
      "Wednesday    29641\n",
      "Friday       28981\n",
      "Monday       26852\n",
      "Sunday       15523\n",
      "Saturday     15405\n",
      "Name: start_day, dtype: int64\n",
      "Thursday     35185\n",
      "Tuesday      31820\n",
      "Wednesday    29631\n",
      "Friday       28981\n",
      "Monday       26859\n",
      "Sunday       15523\n",
      "Saturday     15413\n",
      "Name: end_day, dtype: int64\n"
     ]
    }
   ],
   "source": [
    "print(ford_bike.start_day.value_counts())\n",
    "print(ford_bike.end_day.value_counts())"
   ]
  },
  {
   "cell_type": "code",
   "execution_count": 147,
   "metadata": {},
   "outputs": [
    {
     "data": {
      "text/plain": [
       "duration_sec                        int64\n",
       "duration_minutes                  float64\n",
       "duration_hour                     float64\n",
       "start_time                 datetime64[ns]\n",
       "start_hour                          int64\n",
       "end_time                   datetime64[ns]\n",
       "end_hour                            int64\n",
       "start_day                        category\n",
       "end_day                          category\n",
       "start_station_id                  float64\n",
       "start_station_name                 object\n",
       "start_station_latitude            float64\n",
       "start_station_longitude           float64\n",
       "end_station_id                    float64\n",
       "end_station_name                   object\n",
       "end_station_latitude              float64\n",
       "end_station_longitude             float64\n",
       "bike_id                             int64\n",
       "user_type                          object\n",
       "member_birth_year                 float64\n",
       "age                                 int64\n",
       "member_gender                    category\n",
       "bike_share_for_all_trip            object\n",
       "dtype: object"
      ]
     },
     "execution_count": 147,
     "metadata": {},
     "output_type": "execute_result"
    }
   ],
   "source": [
    "ford_bike.dtypes"
   ]
  },
  {
   "cell_type": "code",
   "execution_count": 75,
   "metadata": {},
   "outputs": [
    {
     "data": {
      "text/plain": [
       "duration_sec                  0\n",
       "duration_minutes              0\n",
       "duration_hour                 0\n",
       "start_time                    0\n",
       "end_time                      0\n",
       "start_day                     0\n",
       "end_day                       0\n",
       "start_station_id            197\n",
       "start_station_name          197\n",
       "start_station_latitude        0\n",
       "start_station_longitude       0\n",
       "end_station_id              197\n",
       "end_station_name            197\n",
       "end_station_latitude          0\n",
       "end_station_longitude         0\n",
       "bike_id                       0\n",
       "user_type                     0\n",
       "member_birth_year          8265\n",
       "age                           0\n",
       "member_gender              8265\n",
       "bike_share_for_all_trip       0\n",
       "dtype: int64"
      ]
     },
     "execution_count": 75,
     "metadata": {},
     "output_type": "execute_result"
    }
   ],
   "source": [
    "# get the counts of missing cells\n",
    "ford_bike.isna().sum()"
   ]
  },
  {
   "cell_type": "markdown",
   "metadata": {},
   "source": [
    "### What is the structure of your dataset?\n",
    "\n",
    "There are 183412 trips on the ford go bike with 16 features (duration_sec, start_time, end_time, start_station_id, start_station_name, start_station_latitude, start_station_longitude, end_station_id, end_station_name, end_station_id, end_station_name, end_station_latitude, end_station_longitude, bike_id, user_type, member_birth_year, member_gender, bike_share_for_all_trip). Most of the variables are numerical and datetime but member_gender is a categorical type consisting of Male, Female and Others\n",
    "\n",
    "### What is/are the main feature(s) of interest in your dataset?\n",
    "\n",
    " Some of the features that pique my interest in the dataset is how the duration of trips depend on certain features like age, gender, user_type, week day.\n",
    "\n",
    "### What features in the dataset do you think will help support your investigation into your feature(s) of interest?\n",
    "\n",
    "I suspect that age will show the strongest relationship with duration, as the older the person the less time they spent on cardio and hence less distance covered."
   ]
  },
  {
   "cell_type": "markdown",
   "metadata": {},
   "source": [
    "## Univariate Exploration\n",
    "\n",
    " \n"
   ]
  },
  {
   "cell_type": "markdown",
   "metadata": {},
   "source": [
    "###### Explore the distribution of rides duration in hours"
   ]
  },
  {
   "cell_type": "code",
   "execution_count": 76,
   "metadata": {},
   "outputs": [
    {
     "data": {
      "text/plain": [
       "count    183412.000000\n",
       "mean          0.201688\n",
       "std           0.498442\n",
       "min           0.016944\n",
       "25%           0.090278\n",
       "50%           0.142778\n",
       "75%           0.221111\n",
       "max          23.734444\n",
       "Name: duration_hour, dtype: float64"
      ]
     },
     "execution_count": 76,
     "metadata": {},
     "output_type": "execute_result"
    }
   ],
   "source": [
    "ford_bike.duration_hour.describe()"
   ]
  },
  {
   "cell_type": "code",
   "execution_count": 77,
   "metadata": {},
   "outputs": [
    {
     "data": {
      "image/png": "[encoded data removed]",
      "text/plain": [
       "<Figure size 432x288 with 1 Axes>"
      ]
     },
     "metadata": {
      "needs_background": "light"
     },
     "output_type": "display_data"
    }
   ],
   "source": [
    "# plot a histogram to determine the distribution of ride in hours\n",
    "bin_edges = np.arange(0, ford_bike['duration_hour'].max()+1, 1)\n",
    "\n",
    "plt.hist(data = ford_bike, x = 'duration_minutes', bins = bin_edges, rwidth = 0.9);\n",
    "plt.title('Ride Duration in hours');\n",
    "plt.xlabel('time(hr)');\n",
    "plt.ylabel('Frequency of Ford Go Bike rides');"
   ]
  },
  {
   "cell_type": "markdown",
   "metadata": {},
   "source": [
    "Duration in hours have a right-skewed distribution, with a lot of rides on shorter hours and fewer rides on longer hours"
   ]
  },
  {
   "cell_type": "markdown",
   "metadata": {},
   "source": [
    "###### Explore the age distribution of ford go bike riders "
   ]
  },
  {
   "cell_type": "code",
   "execution_count": 78,
   "metadata": {},
   "outputs": [
    {
     "data": {
      "text/plain": [
       "count    183412.000000\n",
       "mean         32.652716\n",
       "std          12.167516\n",
       "min           0.000000\n",
       "25%          26.000000\n",
       "50%          31.000000\n",
       "75%          38.000000\n",
       "max         141.000000\n",
       "Name: age, dtype: float64"
      ]
     },
     "execution_count": 78,
     "metadata": {},
     "output_type": "execute_result"
    }
   ],
   "source": [
    "ford_bike['age'].describe()"
   ]
  },
  {
   "cell_type": "code",
   "execution_count": 79,
   "metadata": {},
   "outputs": [
    {
     "name": "stderr",
     "output_type": "stream",
     "text": [
      "C:\\Users\\IZANNA\\anaconda3\\lib\\site-packages\\pandas\\core\\arraylike.py:358: RuntimeWarning: divide by zero encountered in log10\n",
      "  result = getattr(ufunc, method)(*inputs, **kwargs)\n"
     ]
    },
    {
     "data": {
      "text/plain": [
       "count    5.263428\n",
       "mean     1.513919\n",
       "std      1.085202\n",
       "min          -inf\n",
       "25%      1.414973\n",
       "50%      1.491362\n",
       "75%      1.579784\n",
       "max      2.149219\n",
       "Name: age, dtype: float64"
      ]
     },
     "execution_count": 79,
     "metadata": {},
     "output_type": "execute_result"
    }
   ],
   "source": [
    "np.log10(ford_bike['age'].describe())"
   ]
  },
  {
   "cell_type": "code",
   "execution_count": 80,
   "metadata": {},
   "outputs": [
    {
     "data": {
      "image/png": "[encoded data removed]",
      "text/plain": [
       "<Figure size 1440x360 with 2 Axes>"
      ]
     },
     "metadata": {
      "needs_background": "light"
     },
     "output_type": "display_data"
    }
   ],
   "source": [
    "plt.figure(figsize = [20,5])\n",
    "\n",
    "plt.subplot(1, 2, 1)\n",
    "bins = np.arange(0, ford_bike['age'].max()+2, 2)\n",
    "plt.hist(data = ford_bike, x = 'age', bins = bins);\n",
    "plt.title('Age Distribution');\n",
    "plt.xlabel('Age');\n",
    "plt.ylabel('Frequency of Ford Go Bike Trips');\n",
    "\n",
    "\n",
    "plt.subplot(1, 2, 2)\n",
    "bins = 10 ** np.arange(0, np.log10(ford_bike['age'].max())+0.05, 0.05)\n",
    "plt.hist(data = ford_bike, x = 'age', bins = bins)\n",
    "plt.xscale('log')\n",
    "ticks = [1, 3, 10, 30, 100, 300, 1000]\n",
    "labels = ['{}'.format(tick) for tick in ticks]\n",
    "plt.xticks(ticks, labels);\n",
    "plt.title('Logarithmic transformation of Age Distribution');\n",
    "plt.xlabel('Age');\n",
    "plt.ylabel('Frequency of Ford Go Bike Trips');\n"
   ]
  },
  {
   "cell_type": "markdown",
   "metadata": {},
   "source": [
    "Majority of the ford go bike riders are between the age of 30 - 4"
   ]
  },
  {
   "cell_type": "markdown",
   "metadata": {},
   "source": [
    "###### Explore the number of bike trips at the start of the trip and end of the trip during the different days of the week"
   ]
  },
  {
   "cell_type": "code",
   "execution_count": 81,
   "metadata": {},
   "outputs": [
    {
     "data": {
      "image/png": "[encoded data removed]",
      "text/plain": [
       "<Figure size 1440x360 with 2 Axes>"
      ]
     },
     "metadata": {
      "needs_background": "light"
     },
     "output_type": "display_data"
    }
   ],
   "source": [
    "ford_color = sns.color_palette()[0]\n",
    "\n",
    "plt.figure(figsize = [20,5])\n",
    "\n",
    "plt.subplot(1, 2, 1)\n",
    "sns.countplot(data = ford_bike, x = 'start_day', color = ford_color);\n",
    "plt.xticks(rotation = 90);\n",
    "plt.title('Number of trips beginning each day ');\n",
    "plt.xlabel('Trips per day');\n",
    "plt.ylabel('Frequency of daily trips');\n",
    "\n",
    "plt.subplot(1, 2, 2)\n",
    "sns.countplot(data = ford_bike, x = 'end_day', color = ford_color);\n",
    "plt.xticks(rotation = 90);\n",
    "plt.title('Number of trips that finish each day ');\n",
    "plt.xlabel('Trips per day');\n",
    "plt.ylabel('Frequency of daily trips');"
   ]
  },
  {
   "cell_type": "markdown",
   "metadata": {},
   "source": [
    "As expected the weekends Saturday and Sunday has fewer rides because most people are generally tired communting during the weekdays to their place of work and mostly during weekends. While most trips starts on Thursday and ended on Thursday."
   ]
  },
  {
   "cell_type": "markdown",
   "metadata": {},
   "source": [
    "##### User types "
   ]
  },
  {
   "cell_type": "code",
   "execution_count": 82,
   "metadata": {},
   "outputs": [
    {
     "data": {
      "image/png": "[encoded data removed]",
      "text/plain": [
       "<Figure size 576x360 with 1 Axes>"
      ]
     },
     "metadata": {
      "needs_background": "light"
     },
     "output_type": "display_data"
    }
   ],
   "source": [
    "plt.figure(figsize=(8,5))     \n",
    "base_color = sns.color_palette()[0]\n",
    "ax = sns.countplot(data = ford_bike, x ='user_type', color = ford_color)\n",
    "\n",
    "# add annotations\n",
    "size = ford_bike.shape[0]\n",
    "user_counts = ford_bike['user_type'].value_counts()\n",
    "locs, labels = plt.xticks() # get the current tick locations and labels\n",
    "\n",
    "# loop through each pair of locations and labels\n",
    "for loc, label in zip(locs, labels):\n",
    "\n",
    "    # get the text property for the label to get the correct count\n",
    "    count = user_counts[label.get_text()]\n",
    "    pct_string = '{}'.format(count)\n",
    "\n",
    "    # print the annotation just below the top of the bar\n",
    "    plt.text(loc, count-10, pct_string, va='top', ha='center', color = 'k');\n",
    "\n",
    "plt.title('Number of Users');"
   ]
  },
  {
   "cell_type": "markdown",
   "metadata": {},
   "source": [
    "##### Explore the top 20 stations that trip begins and ends"
   ]
  },
  {
   "cell_type": "code",
   "execution_count": 83,
   "metadata": {},
   "outputs": [
    {
     "data": {
      "image/png": "[encoded data removed]",
      "text/plain": [
       "<Figure size 432x288 with 1 Axes>"
      ]
     },
     "metadata": {
      "needs_background": "light"
     },
     "output_type": "display_data"
    }
   ],
   "source": [
    "order_start = ford_bike['start_station_name'].value_counts().index[:20]\n",
    "order_end = ford_bike['end_station_name'].value_counts().index[:20]\n",
    "\n",
    "sns.countplot(data = ford_bike, y = 'start_station_name', color = ford_color, order = order_start);\n",
    "plt.title('Top 20 most popular start station');\n",
    "\n"
   ]
  },
  {
   "cell_type": "code",
   "execution_count": 84,
   "metadata": {},
   "outputs": [
    {
     "data": {
      "image/png": "[encoded data removed]",
      "text/plain": [
       "<Figure size 432x288 with 1 Axes>"
      ]
     },
     "metadata": {
      "needs_background": "light"
     },
     "output_type": "display_data"
    }
   ],
   "source": [
    "sns.countplot(data = ford_bike, y = 'end_station_name', color = ford_color, order = order_end);\n",
    "plt.title('Top 20 most popular end station');"
   ]
  },
  {
   "cell_type": "markdown",
   "metadata": {},
   "source": [
    "### Discuss the distribution(s) of your variable(s) of interest. Were there any unusual points? Did you need to perform any transformations?\n",
    "\n",
    "There were alot of rides for shorter hours and fewer rides for longer hours. Most rides were taken by users between the age of 30 and 40. \n",
    "\n",
    "\n",
    "### Of the features you investigated, were there any unusual distributions? Did you perform any operations on the data to tidy, adjust, or change the form of the data? If so, why did you do this?\n",
    "\n",
    "During the exploratory analysis of age distribution a number of outliers was recorded at 0. This could be an error in data entry, a logarithmic transformation was applied to the age distribution data to get the normal distribution of the age. Also some people above 110 years old was recorded as being users of the ford go bike, this is highly unusual due to certain characteristics such as eye hand coordination, dexterity, physicality that is needed to perform cardio such as cycling is lacking or severly weaken in people of such age, further investigations will need to done to make sense of this portion of the dataset."
   ]
  },
  {
   "cell_type": "markdown",
   "metadata": {},
   "source": [
    "## Bivariate Exploration"
   ]
  },
  {
   "cell_type": "markdown",
   "metadata": {},
   "source": [
    "###### Explore how age, user_type and gender relates with duration in hours "
   ]
  },
  {
   "cell_type": "code",
   "execution_count": 85,
   "metadata": {},
   "outputs": [
    {
     "data": {
      "text/plain": [
       "count    183412.000000\n",
       "mean         32.652716\n",
       "std          12.167516\n",
       "min           0.000000\n",
       "25%          26.000000\n",
       "50%          31.000000\n",
       "75%          38.000000\n",
       "max         141.000000\n",
       "Name: age, dtype: float64"
      ]
     },
     "execution_count": 85,
     "metadata": {},
     "output_type": "execute_result"
    }
   ],
   "source": [
    "ford_bike['age'].describe()"
   ]
  },
  {
   "cell_type": "code",
   "execution_count": 86,
   "metadata": {},
   "outputs": [
    {
     "data": {
      "text/plain": [
       "count    183412.000000\n",
       "mean          0.201688\n",
       "std           0.498442\n",
       "min           0.016944\n",
       "25%           0.090278\n",
       "50%           0.142778\n",
       "75%           0.221111\n",
       "max          23.734444\n",
       "Name: duration_hour, dtype: float64"
      ]
     },
     "execution_count": 86,
     "metadata": {},
     "output_type": "execute_result"
    }
   ],
   "source": [
    "ford_bike['duration_hour'].describe()"
   ]
  },
  {
   "cell_type": "code",
   "execution_count": 102,
   "metadata": {},
   "outputs": [
    {
     "data": {
      "image/png": "[encoded data removed]",
      "text/plain": [
       "<Figure size 432x288 with 2 Axes>"
      ]
     },
     "metadata": {
      "needs_background": "light"
     },
     "output_type": "display_data"
    }
   ],
   "source": [
    "plt.hist2d(data = ford_bike, x = 'age', y = 'duration_hour', cmin = 0.5, cmap = 'viridis_r');\n",
    "plt.colorbar()\n",
    "plt.xlabel('Age');\n",
    "plt.ylabel('Duration(hr)');\n"
   ]
  },
  {
   "cell_type": "markdown",
   "metadata": {},
   "source": [
    "Majority of the users of the ford go bike are within the age group of 30 and 40"
   ]
  },
  {
   "cell_type": "markdown",
   "metadata": {},
   "source": [
    "Let's explore further to find the relationship between age and duration"
   ]
  },
  {
   "cell_type": "code",
   "execution_count": 111,
   "metadata": {},
   "outputs": [
    {
     "data": {
      "image/png": "[encoded data removed]",
      "text/plain": [
       "<Figure size 576x360 with 2 Axes>"
      ]
     },
     "metadata": {
      "needs_background": "light"
     },
     "output_type": "display_data"
    }
   ],
   "source": [
    "# get the correlation between age and duration_hour\n",
    "plt.figure(figsize = [8, 5])\n",
    "sns.heatmap(ford_bike[['age', 'duration_hour']].corr(), annot = True, fmt = '.2f',\n",
    "           cmap = 'vlag_r', center = 0)\n",
    "plt.title('Relationship Between Age and Duration');\n",
    "\n"
   ]
  },
  {
   "cell_type": "markdown",
   "metadata": {},
   "source": [
    "The correlation coefficient -0.3, indicating the relationship between age and duration in hours is extremely weak."
   ]
  },
  {
   "cell_type": "code",
   "execution_count": 88,
   "metadata": {},
   "outputs": [
    {
     "data": {
      "image/png": "[encoded data removed]",
      "text/plain": [
       "<Figure size 576x360 with 1 Axes>"
      ]
     },
     "metadata": {
      "needs_background": "light"
     },
     "output_type": "display_data"
    }
   ],
   "source": [
    "plt.figure(figsize = [8, 5])\n",
    "\n",
    "sns.violinplot(data = ford_bike, x='user_type', y ='duration_hour', inner = None, color = ford_color)\n",
    "plt.xticks(rotation = 90);"
   ]
  },
  {
   "cell_type": "code",
   "execution_count": 118,
   "metadata": {},
   "outputs": [
    {
     "data": {
      "image/png": "[encoded data removed]",
      "text/plain": [
       "<Figure size 432x288 with 1 Axes>"
      ]
     },
     "metadata": {
      "needs_background": "light"
     },
     "output_type": "display_data"
    }
   ],
   "source": [
    "# the duration covered by customers and subscribers is not clear on the violin plot above due to the outliers. \n",
    "# reduce the duration sample size to 10 hours to get a clearer view of the distribution of user type with respect to duration\n",
    "\n",
    "duration_lim = ford_bike[ford_bike['duration_hour'] < 10]\n",
    "\n",
    "sns.violinplot(data = duration_lim, x='user_type', y ='duration_hour', inner = None, color = ford_color);\n",
    "plt.xticks(rotation = 90);"
   ]
  },
  {
   "cell_type": "markdown",
   "metadata": {},
   "source": [
    "The area of density for subscribers is greater than customers and the average customer seems to spend more time on the go bike than subscribers. Both customers and subscribers have outliers that covers similar duration."
   ]
  },
  {
   "cell_type": "code",
   "execution_count": 157,
   "metadata": {},
   "outputs": [
    {
     "data": {
      "text/plain": [
       "<Figure size 1440x1080 with 0 Axes>"
      ]
     },
     "metadata": {},
     "output_type": "display_data"
    },
    {
     "data": {
      "image/png": "[encoded data removed]",
      "text/plain": [
       "<Figure size 1152x288 with 2 Axes>"
      ]
     },
     "metadata": {
      "needs_background": "light"
     },
     "output_type": "display_data"
    }
   ],
   "source": [
    "# get the count of user type\n",
    "user_order = ford_bike['user_type'].value_counts().index\n",
    "\n",
    "plt.figure(figsize = [20, 15])\n",
    "\n",
    "bins = np.arange(-0.3, 24+1, 1)\n",
    "\n",
    "# plot the start time for both subscribers and customers on a facetgrid chart\n",
    "g = sns.FacetGrid(data = ford_bike, col = 'user_type', height = 4, aspect = 2, col_order = user_order, sharey=False);\n",
    "g.map(plt.hist, 'start_hour', bins = bin_edges, rwidth = 0.8);\n",
    "plt.xticks(np.arange(0, 24+1, 1));"
   ]
  },
  {
   "cell_type": "code",
   "execution_count": 90,
   "metadata": {},
   "outputs": [
    {
     "data": {
      "image/png": "[encoded data removed]",
      "text/plain": [
       "<Figure size 432x288 with 1 Axes>"
      ]
     },
     "metadata": {
      "needs_background": "light"
     },
     "output_type": "display_data"
    }
   ],
   "source": [
    "sns.barplot(data = ford_bike, x = 'member_gender', y = 'duration_hour', color = ford_color);"
   ]
  },
  {
   "cell_type": "markdown",
   "metadata": {},
   "source": [
    "The mean value indicates the average female use the ford bike for longer hours than their male counterpart."
   ]
  },
  {
   "cell_type": "code",
   "execution_count": null,
   "metadata": {},
   "outputs": [],
   "source": []
  },
  {
   "cell_type": "code",
   "execution_count": null,
   "metadata": {},
   "outputs": [],
   "source": []
  },
  {
   "cell_type": "markdown",
   "metadata": {},
   "source": [
    "### Talk about some of the relationships you observed in this part of the investigation. How did the feature(s) of interest vary with other features in the dataset?\n",
    "\n",
    "There are more subscribers than customers but the average customer spent longer hours on the ford bike than the subscribers. The outliers though shows that both customers and subscribers spent similar duration on the ford go bike.\n",
    "\n",
    "### Did you observe any interesting relationships between the other features (not the main feature(s) of interest)?\n"
   ]
  },
  {
   "cell_type": "markdown",
   "metadata": {},
   "source": [
    "## Multivariate Exploration\n",
    "\n",
    "###### Explore the relationship between gender, age and duration covered; relationship between subscribers, customers and duration covered."
   ]
  },
  {
   "cell_type": "code",
   "execution_count": 91,
   "metadata": {
    "scrolled": true
   },
   "outputs": [
    {
     "data": {
      "image/png": "[encoded data removed]",
      "text/plain": [
       "<Figure size 648x216 with 3 Axes>"
      ]
     },
     "metadata": {
      "needs_background": "light"
     },
     "output_type": "display_data"
    }
   ],
   "source": [
    "g = sns.FacetGrid(data = ford_bike, col = 'member_gender');\n",
    "g.map(plt.scatter, 'age', 'duration_hour');\n",
    "\n",
    "g.set_xlabels('Age');\n",
    "g.set_ylabels('Duration(hr)');"
   ]
  },
  {
   "cell_type": "markdown",
   "metadata": {},
   "source": [
    "More male below the age of 50 use the ford go bike for trips, between age 50-70 females spent more time on trips."
   ]
  },
  {
   "cell_type": "markdown",
   "metadata": {},
   "source": [
    "Let's explore age under 50 to get a clear view of the distribution of genders on this age group"
   ]
  },
  {
   "cell_type": "code",
   "execution_count": 108,
   "metadata": {},
   "outputs": [
    {
     "data": {
      "image/png": "[encoded data removed]",
      "text/plain": [
       "<Figure size 648x216 with 3 Axes>"
      ]
     },
     "metadata": {
      "needs_background": "light"
     },
     "output_type": "display_data"
    }
   ],
   "source": [
    "ford_age1 = ford_bike[ford_bike['age'] < 50]\n",
    "\n",
    "g = sns.FacetGrid(data = ford_age1, col = 'member_gender');\n",
    "g.map(plt.scatter, 'age', 'duration_hour');\n",
    "\n",
    "g.set_xlabels('Age');\n",
    "g.set_ylabels('Duration(hr)');"
   ]
  },
  {
   "cell_type": "markdown",
   "metadata": {},
   "source": [
    "There are more male users of the ford go bike under the age of 50. At age 30, the male users spend more time riding the go bike."
   ]
  },
  {
   "cell_type": "code",
   "execution_count": 110,
   "metadata": {},
   "outputs": [
    {
     "data": {
      "image/png": "[encoded data removed]",
      "text/plain": [
       "<Figure size 648x216 with 3 Axes>"
      ]
     },
     "metadata": {
      "needs_background": "light"
     },
     "output_type": "display_data"
    }
   ],
   "source": [
    "ford_age2 = ford_bike[ford_bike['age'] > 50]\n",
    "\n",
    "g = sns.FacetGrid(data = ford_age2, col = 'member_gender');\n",
    "g.map(plt.scatter, 'age', 'duration_hour');\n",
    "\n",
    "g.set_xlabels('Age');\n",
    "g.set_ylabels('Duration(hr)');"
   ]
  },
  {
   "cell_type": "markdown",
   "metadata": {},
   "source": [
    "Between age 50 and 60, female riders spend more time riding the go bike"
   ]
  },
  {
   "cell_type": "code",
   "execution_count": null,
   "metadata": {},
   "outputs": [],
   "source": []
  },
  {
   "cell_type": "markdown",
   "metadata": {},
   "source": [
    "### Talk about some of the relationships you observed in this part of the investigation. Were there features that strengthened each other in terms of looking at your feature(s) of interest?\n",
    "\n",
    "> Your answer here!\n",
    "\n",
    "### Were there any interesting or surprising interactions between features?\n",
    "\n",
    "> Your answer here!"
   ]
  },
  {
   "cell_type": "markdown",
   "metadata": {},
   "source": [
    "## Conclusions\n",
    ">You can write a summary of the main findings and reflect on the steps taken during the data exploration.\n"
   ]
  },
  {
   "cell_type": "markdown",
   "metadata": {},
   "source": [
    "\n",
    "> Remove all Tips mentioned above, before you convert this notebook to PDF/HTML\n",
    "\n",
    "\n",
    "> At the end of your report, make sure that you export the notebook as an\n",
    "html file from the `File > Download as... > HTML or PDF` menu. Make sure you keep\n",
    "track of where the exported file goes, so you can put it in the same folder\n",
    "as this notebook for project submission. Also, make sure you remove all of\n",
    "the quote-formatted guide notes like this one before you finish your report!\n",
    "\n"
   ]
  },
  {
   "cell_type": "code",
   "execution_count": null,
   "metadata": {},
   "outputs": [],
   "source": []
  }
 ],
 "metadata": {
  "kernelspec": {
   "display_name": "Python 3",
   "language": "python",
   "name": "python3"
  },
  "language_info": {
   "codemirror_mode": {
    "name": "ipython",
    "version": 3
   },
   "file_extension": ".py",
   "mimetype": "text/x-python",
   "name": "python",
   "nbconvert_exporter": "python",
   "pygments_lexer": "ipython3",
   "version": "3.8.8"
  }
 },
 "nbformat": 4,
 "nbformat_minor": 2
}
